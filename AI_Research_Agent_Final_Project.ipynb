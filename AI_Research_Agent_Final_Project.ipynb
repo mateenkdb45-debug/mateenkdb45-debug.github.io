{
 "cells": [
  {
   "cell_type": "markdown",
   "id": "064d27df",
   "metadata": {},
   "source": [
    "# AI Research Agent - Powered by IBM Granite"
   ]
  },
  {
   "cell_type": "markdown",
   "id": "85d7e3e3",
   "metadata": {},
   "source": [
    "\n",
    "This notebook is part of the **AI & Cloud Internship Project** submitted to IBM.\n",
    "It includes backend simulation in Python along with frontend components built using HTML, CSS, and JavaScript.\n",
    "\n",
    "The project simulates an intelligent research assistant powered by **IBM Granite Foundation Models** and deployed via **watsonx.ai**.\n"
   ]
  },
  {
   "cell_type": "markdown",
   "id": "d0a39dba",
   "metadata": {},
   "source": [
    "## Project Architecture"
   ]
  },
  {
   "cell_type": "code",
   "execution_count": null,
   "id": "01f2c7d1",
   "metadata": {},
   "outputs": [],
   "source": [
    "\n",
    "from IPython.display import Image\n",
    "Image(\"https://ppl-ai-code-interpreter-files.s3.amazonaws.com/web/direct-files/0fa599a5cc76f274c87d0ceca09d67c4/2af7d0bc-12fc-4b52-b70f-3f6f0d7803a6/3e195209.png\")\n"
   ]
  },
  {
   "cell_type": "markdown",
   "id": "6632ed6c",
   "metadata": {},
   "source": [
    "## Technology Stack\n",
    "- IBM watsonx.ai Studio\n",
    "- IBM Granite Foundation Models\n",
    "- Python 3\n",
    "- Jupyter Notebooks\n",
    "- HTML/CSS/JS (for frontend interface)"
   ]
  },
  {
   "cell_type": "markdown",
   "id": "fe273743",
   "metadata": {},
   "source": [
    "\n",
    "## Core Functionalities\n",
    "- Accepts research queries from users\n",
    "- Uses IBM Granite LLM to:\n",
    "  - Search academic literature\n",
    "  - Summarize findings\n",
    "  - Generate hypotheses\n",
    "  - Build knowledge graphs\n",
    "  - Manage citations\n"
   ]
  },
  {
   "cell_type": "markdown",
   "id": "7b9da887",
   "metadata": {},
   "source": [
    "## Frontend Structure"
   ]
  },
  {
   "cell_type": "markdown",
   "id": "9c18a498",
   "metadata": {},
   "source": [
    "\n",
    "The user interface includes:\n",
    "- `index.html`: Structure/layout of the web UI\n",
    "- `style.css`: Styling aligned with IBM design\n",
    "- `app.js`: Handles user interactions and logic\n"
   ]
  },
  {
   "cell_type": "markdown",
   "id": "b2dd4d61",
   "metadata": {},
   "source": [
    "### Sample HTML Code"
   ]
  },
  {
   "cell_type": "code",
   "execution_count": null,
   "id": "9d78ecc8",
   "metadata": {},
   "outputs": [],
   "source": [
    "\n",
    "with open(\"index.html\", \"r\", encoding=\"utf-8\") as file:\n",
    "    html = file.read()\n",
    "print(html[:1000])  # Show first 1000 characters\n"
   ]
  },
  {
   "cell_type": "markdown",
   "id": "ce71122d",
   "metadata": {},
   "source": [
    "### Sample CSS"
   ]
  },
  {
   "cell_type": "code",
   "execution_count": null,
   "id": "a6c40b22",
   "metadata": {},
   "outputs": [],
   "source": [
    "\n",
    "with open(\"style.css\", \"r\", encoding=\"utf-8\") as file:\n",
    "    css = file.read()\n",
    "print(css[:500])  # First 500 characters\n"
   ]
  },
  {
   "cell_type": "markdown",
   "id": "99112e87",
   "metadata": {},
   "source": [
    "### Sample JavaScript"
   ]
  },
  {
   "cell_type": "code",
   "execution_count": null,
   "id": "15309449",
   "metadata": {},
   "outputs": [],
   "source": [
    "\n",
    "with open(\"app.js\", \"r\", encoding=\"utf-8\") as file:\n",
    "    js = file.read()\n",
    "print(js[:500])  # First 500 characters\n"
   ]
  },
  {
   "cell_type": "markdown",
   "id": "2d46a709",
   "metadata": {},
   "source": [
    "## Python Simulation of Research Summary"
   ]
  },
  {
   "cell_type": "code",
   "execution_count": null,
   "id": "ec69237f",
   "metadata": {},
   "outputs": [],
   "source": [
    "\n",
    "def summarize_paper(text):\n",
    "    '''\n",
    "    This function simulates summarizing a research paper using an LLM.\n",
    "    '''\n",
    "    return \"Summary: \" + text[:100] + \"...\"\n",
    "\n",
    "paper_text = \"Artificial intelligence has made major strides in automating scientific discovery...\"\n",
    "summarize_paper(paper_text)\n"
   ]
  },
  {
   "cell_type": "markdown",
   "id": "869df5fe",
   "metadata": {},
   "source": [
    "## Conclusion"
   ]
  },
  {
   "cell_type": "markdown",
   "id": "b878dc5d",
   "metadata": {},
   "source": [
    "\n",
    "This notebook merges both the frontend interface and backend logic to present a complete picture of the AI Research Agent tool built during the IBM Internship.\n",
    "\n",
    "It demonstrates:\n",
    "- Use of IBM watsonx.ai and Granite Models\n",
    "- Full-stack integration with frontend interface\n",
    "- AI-powered summarization and research aid simulation\n"
   ]
  }
 ],
 "metadata": {
  "kernelspec": {
   "display_name": "Python 3",
   "language": "python",
   "name": "python3"
  }
 },
 "nbformat": 4,
 "nbformat_minor": 5
}
